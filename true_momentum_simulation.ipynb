{
 "cells": [
  {
   "cell_type": "code",
   "execution_count": 78,
   "metadata": {},
   "outputs": [],
   "source": [
    "import numpy as np\n",
    "import torch\n",
    "import torch.nn as nn\n",
    "import torch.nn.functional as F\n",
    "from torch.utils.data import TensorDataset, DataLoader\n",
    "from torchvision.datasets import FashionMNIST, MNIST, CIFAR10, SVHN\n",
    "import torchvision\n",
    "from torchvision import transforms\n",
    "import torchvision.utils as vision_utils\n",
    "import matplotlib.pyplot as plt\n",
    "import random\n",
    "import os\n",
    "import time\n",
    "import math\n",
    "\n",
    "DEVICE = torch.device('cuda')"
   ]
  },
  {
   "cell_type": "code",
   "execution_count": 79,
   "metadata": {},
   "outputs": [],
   "source": [
    "def switch_to_device(dataset,device=None):\n",
    "    final_X, final_Y = [], []\n",
    "    for x, y in dataset:\n",
    "        final_X.append(x)\n",
    "        final_Y.append(y)\n",
    "    X = torch.stack(final_X)\n",
    "    Y = torch.tensor(final_Y)\n",
    "    if device is not None:\n",
    "        X = X.to(device)\n",
    "        Y = Y.to(device)\n",
    "    return torch.utils.data.TensorDataset(X, Y)\n",
    "\n",
    "\n",
    "def get_mnist_dl(batch_size_train=256, batch_size_eval=256, device=torch.device('cpu')):\n",
    "    transform = transforms.Compose([transforms.ToTensor()])\n",
    "    \n",
    "    data_train = MNIST('./datasets', train=True, download=True, transform=transform)\n",
    "    data_train = switch_to_device(data_train, device=device)\n",
    "    data_train, data_valid = torch.utils.data.random_split(data_train, [55000,5000])\n",
    "    \n",
    "    data_test = MNIST('./datasets', train=False, download=True, transform=transform)\n",
    "    data_test = switch_to_device(data_test, device=device)\n",
    "    \n",
    "    train_dl = DataLoader(data_train, batch_size=batch_size_train, shuffle=True)\n",
    "    valid_dl = DataLoader(data_valid, batch_size=batch_size_eval, shuffle=False)\n",
    "    test_dl = DataLoader(data_test, batch_size=batch_size_eval, shuffle=False)\n",
    "    \n",
    "    return train_dl, valid_dl, test_dl"
   ]
  },
  {
   "cell_type": "code",
   "execution_count": 80,
   "metadata": {},
   "outputs": [],
   "source": [
    "\n",
    "class MLP_Net(nn.Module):\n",
    "\n",
    "  def __init__(self, num_classes=10) -> None:\n",
    "    super().__init__()\n",
    "    self.flatten = nn.Flatten()\n",
    "    self.fc1 = nn.Linear(28*28, 1024)\n",
    "    self.Relu1 = nn.ReLU()\n",
    "    self.fc2 = nn.Linear(1024, 1024)\n",
    "    self.Relu2 = nn.ReLU()\n",
    "    self.fc3 = nn.Linear(1024, num_classes)\n",
    "    #self.softmax = nn.Softmax()\n",
    "\n",
    "\n",
    "  def forward(self, x: torch.Tensor) -> torch.Tensor:\n",
    "    x = self.flatten(x)\n",
    "    x = self.Relu1(self.fc1(x))\n",
    "    x = self.Relu2(self.fc2(x))\n",
    "    x = self.fc3(x)\n",
    "    \n",
    "    return x"
   ]
  },
  {
   "cell_type": "code",
   "execution_count": 81,
   "metadata": {},
   "outputs": [],
   "source": [
    "class CNN_Net(nn.Module):\n",
    "    def __init__(self, num_classes=10) -> None:\n",
    "        super().__init__()\n",
    "        self.conv1 = nn.Conv2d(1, 26, kernel_size=5, stride=1, padding = 0)\n",
    "        self.maxpooling1 = nn.MaxPool2d(kernel_size=2, stride=2)\n",
    "\n",
    "        self.conv2 = nn.Conv2d(26, 52, kernel_size=3, stride=1, padding = 0)\n",
    "\n",
    "        self.conv3 = nn.Conv2d(52, 10, kernel_size=1, stride=1, padding=0)\n",
    "        self.maxpooling3 = nn.MaxPool2d(kernel_size=2, stride=2)\n",
    "\n",
    "        self.fc_1 = nn.Linear(5*5*10, 1000)\n",
    "        self.fc_2 = nn.Linear(1000, num_classes)\n",
    "\n",
    "    def forward(self, x: torch.Tensor) -> torch.Tensor:\n",
    "        x = self.maxpooling1(F.relu(self.conv1(x)))\n",
    "        x = F.relu(self.conv2(x))\n",
    "        x = self.maxpooling3(F.relu(self.conv3(x)))\n",
    "        x = torch.flatten(x, start_dim=1)\n",
    "        x = F.relu(self.fc_1(x))\n",
    "        x = self.fc_2(x)\n",
    "        return x"
   ]
  },
  {
   "cell_type": "code",
   "execution_count": 82,
   "metadata": {},
   "outputs": [],
   "source": [
    "def print_stats(stats):\n",
    "\n",
    "  fig, (ax1, ax2) = plt.subplots(1,2,figsize=(7,3), dpi=110)\n",
    "  ax1.grid()\n",
    "  ax2.grid()\n",
    "\n",
    "  ax1.set_title(\"ERM loss\")\n",
    "  ax2.set_title(\"Valid Acc\")\n",
    "  \n",
    "  ax1.set_xlabel(\"iterations\")\n",
    "  ax2.set_xlabel(\"iterations\")\n",
    "\n",
    "  itrs = [x[0] for x in stats['train-loss']]\n",
    "  loss = [x[1] for x in stats['train-loss']]\n",
    "  ax1.plot(itrs, loss)\n",
    "\n",
    "  itrs = [x[0] for x in stats['valid-acc']]\n",
    "  acc = [x[1] for x in stats['valid-acc']]\n",
    "  ax2.plot(itrs, acc)\n",
    "\n",
    "  ax1.set_ylim(0.0, 14.05)\n",
    "  ax2.set_ylim(0.0, 1.05)\n",
    "\n",
    "\n",
    "@torch.no_grad()\n",
    "def get_acc(model, dl):\n",
    "  model.eval()\n",
    "  acc = []\n",
    "  for X, y in dl:\n",
    "    #acc.append((torch.sigmoid(model(X)) > 0.5) == y)\n",
    "    acc.append(torch.argmax(model(X), dim=1) == y)\n",
    "  acc = torch.cat(acc)\n",
    "  acc = torch.sum(acc)/len(acc)\n",
    "  model.train()\n",
    "  return acc.item()\n"
   ]
  },
  {
   "cell_type": "code",
   "execution_count": 83,
   "metadata": {},
   "outputs": [],
   "source": [
    "def run_experiment(model, opt, train_dl, valid_dl, test_dl, use_forward_grad=False, num_forward_grad=1, max_epochs=20, cal_grad_change = False, use_momentum = False, fix_gap = 0, shuffle_ratio = 0.2, decay_rate = 0.8):\n",
    "\n",
    "  itr = -1\n",
    "  stats = {'train-loss': [], 'valid-acc':[]}\n",
    "  time_list = []\n",
    "  sort_index_dict = {}\n",
    "  random_dir = {}\n",
    "  da_list = {}\n",
    "  master_dir = {}\n",
    "  angle_with_true = []\n",
    "  scale_difference_with_true = []\n",
    "  for i, p in enumerate(model.parameters()):\n",
    "    sort_index_dict[i] = []\n",
    "    master_dir[i] = 0\n",
    "    random_dir[i] = 0\n",
    "    da_list[i] = 0\n",
    "\n",
    "  for epoch in range(max_epochs):\n",
    "    for x, y in train_dl:\n",
    "        itr += 1\n",
    "        layer_inputs = {}\n",
    "        def hook(mod, input):\n",
    "            layer_inputs[mod] = input[0]\n",
    "        for module in model.modules():\n",
    "            module.register_forward_pre_hook(hook)\n",
    "        opt.zero_grad()\n",
    "        start = time.time()\n",
    "        loss = F.cross_entropy(model(x), y)\n",
    "        loss.backward()\n",
    "        \n",
    "        if itr % 1 == 0:\n",
    "          if cal_grad_change:\n",
    "            with torch.no_grad():\n",
    "              for i, p in enumerate(model.parameters()):\n",
    "                g = p.grad.view(-1)\n",
    "                index_sort = torch.argsort(g).to(torch.device('cpu'))\n",
    "                sort_index_dict[i].append(index_sort)\n",
    "        \n",
    "        if use_forward_grad:\n",
    "          with torch.no_grad():\n",
    "            da = torch.zeros((num_forward_grad, 1)).to(DEVICE)\n",
    "            if use_momentum:\n",
    "              if itr % fix_gap == 0:\n",
    "                for i, p in enumerate(model.parameters()):\n",
    "                  g = p.grad.view(-1)\n",
    "                  index_sort = torch.argsort(g)\n",
    "                  master_dir[i] = index_sort\n",
    "            for i, p in enumerate(model.parameters()):\n",
    "              g = p.grad.view(-1)\n",
    "              v = torch.randn(num_forward_grad, len(g), device=DEVICE)\n",
    "              \n",
    "              if use_momentum:\n",
    "                for j in range(num_forward_grad):\n",
    "                  v[j] = torch.sort(v[j]).values\n",
    "                  #v[j] = torch.from_numpy(np.array([x for _,x in sorted(zip(master_dir[i].tolist(), v[j].tolist()), key=lambda pair: pair[0])]))\n",
    "                  tmp = torch.zeros(len(v[j])).to(DEVICE).long()\n",
    "                  tmp_dir = torch.tensor([]).to(DEVICE).long()\n",
    "                  if shuffle_ratio != 0:\n",
    "                    for k in range(int(1/shuffle_ratio)):\n",
    "                      if k<(int(1/shuffle_ratio)-1):\n",
    "                        partial_master_dir = master_dir[i][int(k*shuffle_ratio*master_dir[i].nelement()) : int((k+1)*shuffle_ratio*master_dir[i].nelement())]\n",
    "                      else:\n",
    "                        partial_master_dir = master_dir[i][int(k*shuffle_ratio*master_dir[i].nelement()) : ]\n",
    "                      partial_shuffle_idx = torch.randperm(partial_master_dir.nelement())\n",
    "                      partial_tmp_dir = partial_master_dir[partial_shuffle_idx]\n",
    "                      tmp_dir = torch.cat((tmp_dir, partial_tmp_dir))\n",
    "                  else:\n",
    "                    tmp_dir = master_dir[i]\n",
    "                  tmp[tmp_dir] = torch.arange(len(v[j])).to(DEVICE)\n",
    "                  v[j] = v[j][tmp]\n",
    "                #ber_matrix = torch.full(v.shape, 0.5)\n",
    "                #random_index = torch.bernoulli(ber_matrix).to(DEVICE)\n",
    "                #v = v + random_index*v*(-2)\n",
    "                v = torch.randn(num_forward_grad, len(g), device=DEVICE)*(1-decay_rate**(itr%fix_gap)) + v*(decay_rate**(itr%fix_gap))\n",
    "              \n",
    "              random_dir[i] = v\n",
    "              da = da + (v @ g).view(num_forward_grad,1)\n",
    "              #da_list[i] = (v @ g).view(num_forward_grad,1)\n",
    "           \n",
    "            for i, p in enumerate(model.parameters()):\n",
    "                g = (da * random_dir[i]).mean(dim = 0)\n",
    "                #g = (da_list[i] * random_dir[i]).mean(dim = 0)\n",
    "                angle_with_true.append((torch.dot(p.grad.view(-1), g)/(torch.linalg.norm(p.grad.view(-1))*torch.linalg.norm(g))).cpu().item())\n",
    "                scale_difference_with_true.append((torch.linalg.norm(p.grad.view(-1)) - torch.linalg.norm(g)).cpu().item())\n",
    "                p.grad = g.view(p.grad.shape)\n",
    "        \n",
    "        #nn.utils.clip_grad_norm_(model.parameters(), max_norm=0.25, norm_type=2)\n",
    "        opt.step()\n",
    "        time_list.append(time.time()-start)\n",
    "\n",
    "        stats['train-loss'].append((itr, loss.item()))\n",
    "\n",
    "        if itr % 100 == 0:\n",
    "          valid_acc = get_acc(model, valid_dl)\n",
    "          stats['valid-acc'].append((itr, valid_acc))\n",
    "          s = f\"{epoch}:{itr} [train] loss:{loss.item():.3f}, [valid] acc:{valid_acc:.3f}, time: {np.sum(time_list)/100}\"\n",
    "          print(s)\n",
    "          time_list = []\n",
    "        '''\n",
    "        if itr % 400 ==0 :\n",
    "          if itr != 0:\n",
    "            fix_gap = fix_gap-2\n",
    "        '''\n",
    "\n",
    "        if itr % 100 == 0:\n",
    "          decay_rate = decay_rate**2\n",
    "\n",
    "  test_acc = get_acc(model, test_dl)\n",
    "  print(f\"[test] acc:{test_acc:.3f}\")\n",
    "  if cal_grad_change:\n",
    "    return (stats, sort_index_dict), angle_with_true, scale_difference_with_true\n",
    "  else:\n",
    "    return (stats), angle_with_true, scale_difference_with_true"
   ]
  },
  {
   "cell_type": "code",
   "execution_count": 84,
   "metadata": {},
   "outputs": [
    {
     "name": "stdout",
     "output_type": "stream",
     "text": [
      "0:0 [train] loss:5.560, [valid] acc:0.166, time: 9.9945068359375e-06\n",
      "0:100 [train] loss:0.301, [valid] acc:0.915, time: 0.0007504057884216308\n",
      "0:200 [train] loss:0.124, [valid] acc:0.938, time: 0.000824897289276123\n",
      "1:300 [train] loss:0.121, [valid] acc:0.948, time: 0.0010288000106811524\n",
      "1:400 [train] loss:0.164, [valid] acc:0.953, time: 0.00107804536819458\n",
      "2:500 [train] loss:0.082, [valid] acc:0.954, time: 0.0013471031188964843\n",
      "2:600 [train] loss:0.078, [valid] acc:0.958, time: 0.0014851617813110352\n",
      "3:700 [train] loss:0.104, [valid] acc:0.961, time: 0.0016276025772094726\n",
      "3:800 [train] loss:0.076, [valid] acc:0.960, time: 0.0016364097595214845\n",
      "4:900 [train] loss:0.036, [valid] acc:0.963, time: 0.0019324421882629395\n",
      "4:1000 [train] loss:0.054, [valid] acc:0.965, time: 0.001685183048248291\n",
      "5:1100 [train] loss:0.034, [valid] acc:0.965, time: 0.002125716209411621\n",
      "5:1200 [train] loss:0.043, [valid] acc:0.964, time: 0.0018642878532409669\n",
      "6:1300 [train] loss:0.030, [valid] acc:0.967, time: 0.0022965478897094727\n",
      "6:1400 [train] loss:0.032, [valid] acc:0.967, time: 0.0025226140022277833\n",
      "6:1500 [train] loss:0.038, [valid] acc:0.969, time: 0.0025295424461364746\n",
      "7:1600 [train] loss:0.028, [valid] acc:0.969, time: 0.0030280113220214843\n",
      "7:1700 [train] loss:0.060, [valid] acc:0.967, time: 0.002774326801300049\n",
      "8:1800 [train] loss:0.048, [valid] acc:0.971, time: 0.003133411407470703\n",
      "8:1900 [train] loss:0.041, [valid] acc:0.971, time: 0.002829732894897461\n",
      "9:2000 [train] loss:0.017, [valid] acc:0.971, time: 0.003223083019256592\n",
      "9:2100 [train] loss:0.016, [valid] acc:0.971, time: 0.003815188407897949\n",
      "10:2200 [train] loss:0.018, [valid] acc:0.972, time: 0.0037292361259460447\n",
      "10:2300 [train] loss:0.019, [valid] acc:0.972, time: 0.003763630390167236\n",
      "11:2400 [train] loss:0.015, [valid] acc:0.972, time: 0.0040531778335571285\n",
      "11:2500 [train] loss:0.012, [valid] acc:0.972, time: 0.0035874128341674806\n",
      "12:2600 [train] loss:0.011, [valid] acc:0.972, time: 0.00410250186920166\n",
      "12:2700 [train] loss:0.012, [valid] acc:0.971, time: 0.0041666293144226076\n",
      "13:2800 [train] loss:0.012, [valid] acc:0.973, time: 0.003989999294281006\n",
      "13:2900 [train] loss:0.013, [valid] acc:0.973, time: 0.004291641712188721\n",
      "13:3000 [train] loss:0.019, [valid] acc:0.972, time: 0.003979222774505615\n",
      "14:3100 [train] loss:0.028, [valid] acc:0.973, time: 0.004734485149383545\n",
      "14:3200 [train] loss:0.006, [valid] acc:0.973, time: 0.00436025857925415\n",
      "15:3300 [train] loss:0.012, [valid] acc:0.973, time: 0.004849345684051514\n",
      "15:3400 [train] loss:0.008, [valid] acc:0.972, time: 0.004552242755889893\n",
      "16:3500 [train] loss:0.009, [valid] acc:0.973, time: 0.005122904777526856\n",
      "16:3600 [train] loss:0.009, [valid] acc:0.973, time: 0.004899773597717285\n",
      "17:3700 [train] loss:0.006, [valid] acc:0.973, time: 0.005207474231719971\n",
      "17:3800 [train] loss:0.006, [valid] acc:0.973, time: 0.0049405074119567875\n",
      "18:3900 [train] loss:0.007, [valid] acc:0.973, time: 0.0057694768905639645\n",
      "18:4000 [train] loss:0.009, [valid] acc:0.973, time: 0.0054452776908874515\n",
      "19:4100 [train] loss:0.010, [valid] acc:0.974, time: 0.005611734390258789\n",
      "19:4200 [train] loss:0.007, [valid] acc:0.973, time: 0.0053486013412475586\n",
      "[test] acc:0.976\n"
     ]
    },
    {
     "data": {
      "image/png": "[encoded data removed]",
      "text/plain": [
       "<Figure size 770x330 with 2 Axes>"
      ]
     },
     "metadata": {
      "needs_background": "light"
     },
     "output_type": "display_data"
    }
   ],
   "source": [
    "train_dl, valid_dl, test_dl = get_mnist_dl(device=DEVICE)\n",
    "\n",
    "model = MLP_Net().to(DEVICE)\n",
    "\n",
    "for p in model.parameters():\n",
    "    g = p.view(-1)\n",
    "    v = torch.normal(mean = torch.full((1, len(g)), 0.), std = torch.full((1, len(g)), 0.1)).to(DEVICE)\n",
    "    p.data = v.view(p.shape)\n",
    "\n",
    "opt = torch.optim.SGD(model.parameters(), lr=1e-1)\n",
    "\n",
    "\n",
    "res, angle_with_true, scale_difference_with_true= run_experiment(model, opt, train_dl, valid_dl, test_dl, use_forward_grad = False, num_forward_grad = 1, max_epochs=20, cal_grad_change = False, use_momentum = False, fix_gap = 10, shuffle_ratio = 0.5, decay_rate = 0.9)\n",
    "\n",
    "if type(res).__name__ == 'dict':\n",
    "    print_stats(res)\n",
    "else:\n",
    "    stats = res[0]\n",
    "    sort_index = res[1]\n",
    "    print_stats(stats)\n"
   ]
  },
  {
   "cell_type": "code",
   "execution_count": 85,
   "metadata": {},
   "outputs": [
    {
     "name": "stderr",
     "output_type": "stream",
     "text": [
      "d:\\Anaconda\\envs\\pytorch\\lib\\site-packages\\numpy\\core\\fromnumeric.py:3373: RuntimeWarning: Mean of empty slice.\n",
      "  out=out, **kwargs)\n",
      "d:\\Anaconda\\envs\\pytorch\\lib\\site-packages\\numpy\\core\\_methods.py:170: RuntimeWarning: invalid value encountered in double_scalars\n",
      "  ret = ret.dtype.type(ret / rcount)\n"
     ]
    },
    {
     "data": {
      "text/plain": [
       "nan"
      ]
     },
     "execution_count": 85,
     "metadata": {},
     "output_type": "execute_result"
    },
    {
     "data": {
      "image/png": "[encoded data removed]",
      "text/plain": [
       "<Figure size 432x288 with 1 Axes>"
      ]
     },
     "metadata": {
      "needs_background": "light"
     },
     "output_type": "display_data"
    }
   ],
   "source": [
    "#angle_with_true = angle_with_true.tolist()\n",
    "plt.boxplot(angle_with_true);\n",
    "np.mean(angle_with_true)"
   ]
  },
  {
   "cell_type": "code",
   "execution_count": 86,
   "metadata": {},
   "outputs": [
    {
     "name": "stderr",
     "output_type": "stream",
     "text": [
      "d:\\Anaconda\\envs\\pytorch\\lib\\site-packages\\numpy\\core\\fromnumeric.py:3373: RuntimeWarning: Mean of empty slice.\n",
      "  out=out, **kwargs)\n",
      "d:\\Anaconda\\envs\\pytorch\\lib\\site-packages\\numpy\\core\\_methods.py:170: RuntimeWarning: invalid value encountered in double_scalars\n",
      "  ret = ret.dtype.type(ret / rcount)\n"
     ]
    },
    {
     "data": {
      "text/plain": [
       "nan"
      ]
     },
     "execution_count": 86,
     "metadata": {},
     "output_type": "execute_result"
    },
    {
     "data": {
      "image/png": "[encoded data removed]",
      "text/plain": [
       "<Figure size 432x288 with 1 Axes>"
      ]
     },
     "metadata": {
      "needs_background": "light"
     },
     "output_type": "display_data"
    }
   ],
   "source": [
    "#angle_with_true = angle_with_true.tolist()\n",
    "plt.boxplot(scale_difference_with_true);\n",
    "np.mean(scale_difference_with_true)"
   ]
  }
 ],
 "metadata": {
  "kernelspec": {
   "display_name": "Python 3.6.13 ('pytorch')",
   "language": "python",
   "name": "python3"
  },
  "language_info": {
   "codemirror_mode": {
    "name": "ipython",
    "version": 3
   },
   "file_extension": ".py",
   "mimetype": "text/x-python",
   "name": "python",
   "nbconvert_exporter": "python",
   "pygments_lexer": "ipython3",
   "version": "3.6.13"
  },
  "orig_nbformat": 4,
  "vscode": {
   "interpreter": {
    "hash": "0747f93ff6db21b2db2bf35ad4858dd0825b9c21797c41b4cc32097944ab3f10"
   }
  }
 },
 "nbformat": 4,
 "nbformat_minor": 2
}
