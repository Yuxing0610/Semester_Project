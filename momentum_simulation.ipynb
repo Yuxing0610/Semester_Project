{
 "cells": [
  {
   "cell_type": "code",
   "execution_count": 10,
   "metadata": {},
   "outputs": [],
   "source": [
    "import numpy as np\n",
    "import torch\n",
    "import torch.nn as nn\n",
    "import torch.nn.functional as F\n",
    "from torch.utils.data import TensorDataset, DataLoader\n",
    "from torchvision.datasets import FashionMNIST, MNIST, CIFAR10, SVHN\n",
    "import torchvision\n",
    "from torchvision import transforms\n",
    "import torchvision.utils as vision_utils\n",
    "import matplotlib.pyplot as plt\n",
    "import random\n",
    "import os\n",
    "import time\n",
    "import math\n",
    "\n",
    "DEVICE = torch.device('cuda')"
   ]
  },
  {
   "cell_type": "code",
   "execution_count": 11,
   "metadata": {},
   "outputs": [],
   "source": [
    "def switch_to_device(dataset,device=None):\n",
    "    final_X, final_Y = [], []\n",
    "    for x, y in dataset:\n",
    "        final_X.append(x)\n",
    "        final_Y.append(y)\n",
    "    X = torch.stack(final_X)\n",
    "    Y = torch.tensor(final_Y)\n",
    "    if device is not None:\n",
    "        X = X.to(device)\n",
    "        Y = Y.to(device)\n",
    "    return torch.utils.data.TensorDataset(X, Y)\n",
    "\n",
    "\n",
    "def get_mnist_dl(batch_size_train=256, batch_size_eval=256, device=torch.device('cpu')):\n",
    "    transform = transforms.Compose([transforms.ToTensor()])\n",
    "    \n",
    "    data_train = MNIST('./datasets', train=True, download=True, transform=transform)\n",
    "    data_train = switch_to_device(data_train, device=device)\n",
    "    data_train, data_valid = torch.utils.data.random_split(data_train, [55000,5000])\n",
    "    \n",
    "    data_test = MNIST('./datasets', train=False, download=True, transform=transform)\n",
    "    data_test = switch_to_device(data_test, device=device)\n",
    "    \n",
    "    train_dl = DataLoader(data_train, batch_size=batch_size_train, shuffle=True)\n",
    "    valid_dl = DataLoader(data_valid, batch_size=batch_size_eval, shuffle=False)\n",
    "    test_dl = DataLoader(data_test, batch_size=batch_size_eval, shuffle=False)\n",
    "    \n",
    "    return train_dl, valid_dl, test_dl"
   ]
  },
  {
   "cell_type": "code",
   "execution_count": 12,
   "metadata": {},
   "outputs": [],
   "source": [
    "\n",
    "class MLP_Net(nn.Module):\n",
    "\n",
    "  def __init__(self, num_classes=10) -> None:\n",
    "    super().__init__()\n",
    "    self.flatten = nn.Flatten()\n",
    "    self.fc1 = nn.Linear(28*28, 1024)\n",
    "    self.Relu1 = nn.ReLU()\n",
    "    self.fc2 = nn.Linear(1024, 1024)\n",
    "    self.Relu2 = nn.ReLU()\n",
    "    self.fc3 = nn.Linear(1024, num_classes)\n",
    "    #self.softmax = nn.Softmax()\n",
    "\n",
    "\n",
    "  def forward(self, x: torch.Tensor) -> torch.Tensor:\n",
    "    x = self.flatten(x)\n",
    "    x = self.Relu1(self.fc1(x))\n",
    "    x = self.Relu2(self.fc2(x))\n",
    "    x = self.fc3(x)\n",
    "    \n",
    "    return x"
   ]
  },
  {
   "cell_type": "code",
   "execution_count": 13,
   "metadata": {},
   "outputs": [],
   "source": [
    "class CNN_Net(nn.Module):\n",
    "    def __init__(self, num_classes=10) -> None:\n",
    "        super().__init__()\n",
    "        self.conv1 = nn.Conv2d(1, 26, kernel_size=5, stride=1, padding = 0)\n",
    "        self.maxpooling1 = nn.MaxPool2d(kernel_size=2, stride=2)\n",
    "\n",
    "        self.conv2 = nn.Conv2d(26, 52, kernel_size=3, stride=1, padding = 0)\n",
    "\n",
    "        self.conv3 = nn.Conv2d(52, 10, kernel_size=1, stride=1, padding=0)\n",
    "        self.maxpooling3 = nn.MaxPool2d(kernel_size=2, stride=2)\n",
    "\n",
    "        self.fc_1 = nn.Linear(5*5*10, 1000)\n",
    "        self.fc_2 = nn.Linear(1000, num_classes)\n",
    "\n",
    "    def forward(self, x: torch.Tensor) -> torch.Tensor:\n",
    "        x = self.maxpooling1(F.relu(self.conv1(x)))\n",
    "        x = F.relu(self.conv2(x))\n",
    "        x = self.maxpooling3(F.relu(self.conv3(x)))\n",
    "        x = torch.flatten(x, start_dim=1)\n",
    "        x = F.relu(self.fc_1(x))\n",
    "        x = self.fc_2(x)\n",
    "        return x"
   ]
  },
  {
   "cell_type": "code",
   "execution_count": 14,
   "metadata": {},
   "outputs": [],
   "source": [
    "def print_stats(stats):\n",
    "\n",
    "  fig, (ax1, ax2) = plt.subplots(1,2,figsize=(7,3), dpi=110)\n",
    "  ax1.grid()\n",
    "  ax2.grid()\n",
    "\n",
    "  ax1.set_title(\"ERM loss\")\n",
    "  ax2.set_title(\"Valid Acc\")\n",
    "  \n",
    "  ax1.set_xlabel(\"iterations\")\n",
    "  ax2.set_xlabel(\"iterations\")\n",
    "\n",
    "  itrs = [x[0] for x in stats['train-loss']]\n",
    "  loss = [x[1] for x in stats['train-loss']]\n",
    "  ax1.plot(itrs, loss)\n",
    "\n",
    "  itrs = [x[0] for x in stats['valid-acc']]\n",
    "  acc = [x[1] for x in stats['valid-acc']]\n",
    "  ax2.plot(itrs, acc)\n",
    "\n",
    "  ax1.set_ylim(0.0, 4.05)\n",
    "  ax2.set_ylim(0.0, 1.05)\n",
    "\n",
    "\n",
    "@torch.no_grad()\n",
    "def get_acc(model, dl):\n",
    "  model.eval()\n",
    "  acc = []\n",
    "  for X, y in dl:\n",
    "    #acc.append((torch.sigmoid(model(X)) > 0.5) == y)\n",
    "    acc.append(torch.argmax(model(X), dim=1) == y)\n",
    "  acc = torch.cat(acc)\n",
    "  acc = torch.sum(acc)/len(acc)\n",
    "  model.train()\n",
    "  return acc.item()\n"
   ]
  },
  {
   "cell_type": "code",
   "execution_count": 15,
   "metadata": {},
   "outputs": [],
   "source": [
    "def run_experiment(model, opt, train_dl, valid_dl, test_dl, use_forward_grad=False, num_forward_grad=1, max_epochs=20, cal_grad_change = False, use_momentum = False, fix_gap = 0, shuffle_ratio = 0.2, decay_rate = 0.8):\n",
    "\n",
    "  itr = -1\n",
    "  stats = {'train-loss': [], 'valid-acc':[]}\n",
    "  time_list = []\n",
    "  sort_index_dict = {}\n",
    "  master_dir = {}\n",
    "  angle_with_true = []\n",
    "  for i, p in enumerate(model.parameters()):\n",
    "    sort_index_dict[i] = []\n",
    "    master_dir[i] = 0\n",
    "\n",
    "  for epoch in range(max_epochs):\n",
    "    for x, y in train_dl:\n",
    "        itr += 1\n",
    "        layer_inputs = {}\n",
    "        def hook(mod, input):\n",
    "            layer_inputs[mod] = input[0]\n",
    "        for module in model.modules():\n",
    "            module.register_forward_pre_hook(hook)\n",
    "        opt.zero_grad()\n",
    "        start = time.time()\n",
    "        loss = F.cross_entropy(model(x), y)\n",
    "        loss.backward()\n",
    "        \n",
    "        if itr % 1 == 0:\n",
    "          if cal_grad_change:\n",
    "            with torch.no_grad():\n",
    "              for i, p in enumerate(model.parameters()):\n",
    "                g = p.grad.view(-1)\n",
    "                index_sort = torch.argsort(g).to(torch.device('cpu'))\n",
    "                sort_index_dict[i].append(index_sort)\n",
    "        \n",
    "        if use_forward_grad:\n",
    "          with torch.no_grad():\n",
    "            if use_momentum:\n",
    "              if itr % fix_gap == 0:\n",
    "                for i, p in enumerate(model.parameters()):\n",
    "                  g = p.grad.view(-1)\n",
    "                  index_sort = torch.argsort(g)\n",
    "                  master_dir[i] = index_sort\n",
    "            for i, p in enumerate(model.parameters()):\n",
    "              g = p.grad.view(-1)\n",
    "              v = torch.randn(num_forward_grad, len(g), device=DEVICE)\n",
    "              \n",
    "              if use_momentum:\n",
    "                for j in range(num_forward_grad):\n",
    "                  v[j] = torch.sort(v[j]).values\n",
    "                  #v[j] = torch.from_numpy(np.array([x for _,x in sorted(zip(master_dir[i].tolist(), v[j].tolist()), key=lambda pair: pair[0])]))\n",
    "                  tmp = torch.zeros(len(v[j])).to(DEVICE).long()\n",
    "                  tmp_dir = torch.tensor([]).to(DEVICE).long()\n",
    "                  for k in range(int(1/shuffle_ratio)):\n",
    "                    if k<(int(1/shuffle_ratio)-1):\n",
    "                      partial_master_dir = master_dir[i][int(k*shuffle_ratio*master_dir[i].nelement()) : int((k+1)*shuffle_ratio*master_dir[i].nelement())]\n",
    "                    else:\n",
    "                      partial_master_dir = master_dir[i][int(k*shuffle_ratio*master_dir[i].nelement()) : ]\n",
    "                    partial_shuffle_idx = torch.randperm(partial_master_dir.nelement())\n",
    "                    partial_tmp_dir = partial_master_dir[partial_shuffle_idx]\n",
    "                    tmp_dir = torch.cat((tmp_dir, partial_tmp_dir))\n",
    "                  tmp[tmp_dir] = torch.arange(len(v[j])).to(DEVICE)\n",
    "                  v[j] = v[j][tmp]\n",
    "                ber_matrix = torch.full(v.shape, 0.5)\n",
    "                random_index = torch.bernoulli(ber_matrix).to(DEVICE)\n",
    "                v = v + random_index*v*(-2)\n",
    "                v = torch.randn(num_forward_grad, len(g), device=DEVICE)*(1-decay_rate**(itr%fix_gap)) + v*(decay_rate**(itr%fix_gap))\n",
    "              \n",
    "              g = ((v @ g).view(num_forward_grad,1) * v).mean(dim=0)\n",
    "              angle_with_true.append((torch.dot(p.grad.view(-1), g)/(torch.linalg.norm(p.grad.view(-1))*torch.linalg.norm(g))).cpu().item())\n",
    "              \n",
    "              p.grad = g.view(p.grad.shape)\n",
    "        \n",
    "        #nn.utils.clip_grad_norm_(model.parameters(), max_norm=0.25, norm_type=2)\n",
    "        opt.step()\n",
    "        time_list.append(time.time()-start)\n",
    "\n",
    "        stats['train-loss'].append((itr, loss.item()))\n",
    "\n",
    "        if itr % 100 == 0:\n",
    "          valid_acc = get_acc(model, valid_dl)\n",
    "          stats['valid-acc'].append((itr, valid_acc))\n",
    "          s = f\"{epoch}:{itr} [train] loss:{loss.item():.3f}, [valid] acc:{valid_acc:.3f}, time: {np.sum(time_list)/100}\"\n",
    "          print(s)\n",
    "          time_list = []\n",
    "\n",
    "        if itr % 200 == 0:\n",
    "          decay_rate = decay_rate**2\n",
    "\n",
    "  test_acc = get_acc(model, test_dl)\n",
    "  print(f\"[test] acc:{test_acc:.3f}\")\n",
    "  if cal_grad_change:\n",
    "    return (stats, sort_index_dict), angle_with_true\n",
    "  else:\n",
    "    return (stats), angle_with_true"
   ]
  },
  {
   "cell_type": "code",
   "execution_count": 16,
   "metadata": {},
   "outputs": [
    {
     "name": "stdout",
     "output_type": "stream",
     "text": [
      "0:0 [train] loss:2.344, [valid] acc:0.150, time: 2.0015239715576173e-05\n",
      "0:100 [train] loss:1.624, [valid] acc:0.574, time: 0.001479337215423584\n",
      "0:200 [train] loss:0.511, [valid] acc:0.860, time: 0.001617746353149414\n",
      "1:300 [train] loss:0.316, [valid] acc:0.901, time: 0.0016823101043701172\n",
      "1:400 [train] loss:0.291, [valid] acc:0.922, time: 0.0018591785430908203\n",
      "2:500 [train] loss:0.162, [valid] acc:0.931, time: 0.001997249126434326\n",
      "2:600 [train] loss:0.195, [valid] acc:0.938, time: 0.001928095817565918\n",
      "3:700 [train] loss:0.211, [valid] acc:0.941, time: 0.002091386318206787\n",
      "3:800 [train] loss:0.187, [valid] acc:0.948, time: 0.0021606707572937012\n",
      "4:900 [train] loss:0.142, [valid] acc:0.949, time: 0.002358591556549072\n",
      "4:1000 [train] loss:0.190, [valid] acc:0.953, time: 0.002288625240325928\n",
      "[test] acc:0.959\n"
     ]
    },
    {
     "data": {
      "image/png": "[encoded data removed]",
      "text/plain": [
       "<Figure size 770x330 with 2 Axes>"
      ]
     },
     "metadata": {
      "needs_background": "light"
     },
     "output_type": "display_data"
    }
   ],
   "source": [
    "train_dl, valid_dl, test_dl = get_mnist_dl(device=DEVICE)\n",
    "\n",
    "model = CNN_Net().to(DEVICE)\n",
    "\n",
    "for p in model.parameters():\n",
    "    g = p.view(-1)\n",
    "    v = torch.normal(mean = torch.full((1, len(g)), 0.), std = torch.full((1, len(g)), 0.1)).to(DEVICE)\n",
    "    p.data = v.view(p.shape)\n",
    "\n",
    "opt = torch.optim.SGD(model.parameters(), lr=1e-2)\n",
    "\n",
    "\n",
    "res, angle_with_true= run_experiment(model, opt, train_dl, valid_dl, test_dl, use_forward_grad=False, num_forward_grad = 1, max_epochs=5, cal_grad_change = False, use_momentum = True, fix_gap = 10, shuffle_ratio = 0.2, decay_rate = 0.9)\n",
    "\n",
    "if type(res).__name__ == 'dict':\n",
    "    print_stats(res)\n",
    "else:\n",
    "    stats = res[0]\n",
    "    sort_index = res[1]\n",
    "    print_stats(stats)\n"
   ]
  },
  {
   "cell_type": "code",
   "execution_count": 17,
   "metadata": {},
   "outputs": [],
   "source": [
    "def print_index_change(sort_index, layer):\n",
    "    sorted_lists = sort_index[layer]\n",
    "    bottom1_index = sorted_lists[0][len(sorted_lists[0])//2]\n",
    "    print(len(sorted_lists))\n",
    "    changing_list = []\n",
    "    for sorted_list in sorted_lists:\n",
    "        a = sorted_list.tolist().index(bottom1_index)\n",
    "        print(a)\n",
    "        changing_list.append(a)\n",
    "    return changing_list\n",
    "    '''\n",
    "    angle_list = []\n",
    "    dir_1 = sorted_lists[0]\n",
    "    for dir_2 in sorted_lists:\n",
    "        angle_list.append(np.dot(dir_1, dir_2)/(np.linalg.norm(dir_1)*np.linalg.norm(dir_2)))\n",
    "        #dir_1 = dir_2\n",
    "    return angle_list\n",
    "    '''\n",
    "        "
   ]
  },
  {
   "cell_type": "code",
   "execution_count": 18,
   "metadata": {},
   "outputs": [
    {
     "ename": "NameError",
     "evalue": "name 'sort_index' is not defined",
     "output_type": "error",
     "traceback": [
      "\u001b[1;31m---------------------------------------------------------------------------\u001b[0m",
      "\u001b[1;31mNameError\u001b[0m                                 Traceback (most recent call last)",
      "\u001b[1;32m<ipython-input-18-dd6e0f9270cf>\u001b[0m in \u001b[0;36m<module>\u001b[1;34m\u001b[0m\n\u001b[0;32m      1\u001b[0m \u001b[0mlayer_num\u001b[0m \u001b[1;33m=\u001b[0m \u001b[1;36m1\u001b[0m\u001b[1;33m\u001b[0m\u001b[1;33m\u001b[0m\u001b[0m\n\u001b[1;32m----> 2\u001b[1;33m \u001b[0mindex_list\u001b[0m \u001b[1;33m=\u001b[0m \u001b[0mprint_index_change\u001b[0m\u001b[1;33m(\u001b[0m\u001b[0msort_index\u001b[0m\u001b[1;33m,\u001b[0m \u001b[0mlayer_num\u001b[0m\u001b[1;33m)\u001b[0m\u001b[1;33m\u001b[0m\u001b[1;33m\u001b[0m\u001b[0m\n\u001b[0m\u001b[0;32m      3\u001b[0m \u001b[0mplt\u001b[0m\u001b[1;33m.\u001b[0m\u001b[0mylim\u001b[0m\u001b[1;33m(\u001b[0m\u001b[1;36m0\u001b[0m\u001b[1;33m,\u001b[0m \u001b[0mlen\u001b[0m\u001b[1;33m(\u001b[0m\u001b[0msort_index\u001b[0m\u001b[1;33m[\u001b[0m\u001b[0mlayer_num\u001b[0m\u001b[1;33m]\u001b[0m\u001b[1;33m[\u001b[0m\u001b[1;36m0\u001b[0m\u001b[1;33m]\u001b[0m\u001b[1;33m)\u001b[0m\u001b[1;33m*\u001b[0m\u001b[1;36m1.1\u001b[0m\u001b[1;33m)\u001b[0m\u001b[1;33m\u001b[0m\u001b[1;33m\u001b[0m\u001b[0m\n\u001b[0;32m      4\u001b[0m \u001b[0mplt\u001b[0m\u001b[1;33m.\u001b[0m\u001b[0mplot\u001b[0m\u001b[1;33m(\u001b[0m\u001b[0mindex_list\u001b[0m\u001b[1;33m)\u001b[0m\u001b[1;33m\u001b[0m\u001b[1;33m\u001b[0m\u001b[0m\n",
      "\u001b[1;31mNameError\u001b[0m: name 'sort_index' is not defined"
     ]
    }
   ],
   "source": [
    "layer_num = 1\n",
    "index_list = print_index_change(sort_index, layer_num)\n",
    "plt.ylim(0, len(sort_index[layer_num][0])*1.1)\n",
    "plt.plot(index_list)"
   ]
  },
  {
   "cell_type": "code",
   "execution_count": null,
   "metadata": {},
   "outputs": [
    {
     "data": {
      "image/png": "[encoded data removed]",
      "text/plain": [
       "<Figure size 432x288 with 1 Axes>"
      ]
     },
     "metadata": {
      "needs_background": "light"
     },
     "output_type": "display_data"
    }
   ],
   "source": [
    "#angle_with_true = angle_with_true.tolist()\n",
    "plt.boxplot(angle_with_true);"
   ]
  },
  {
   "cell_type": "code",
   "execution_count": null,
   "metadata": {},
   "outputs": [
    {
     "data": {
      "text/plain": [
       "0.09458995782419641"
      ]
     },
     "execution_count": 380,
     "metadata": {},
     "output_type": "execute_result"
    }
   ],
   "source": [
    "np.mean(angle_with_true)"
   ]
  }
 ],
 "metadata": {
  "kernelspec": {
   "display_name": "Python 3.6.13 ('pytorch')",
   "language": "python",
   "name": "python3"
  },
  "language_info": {
   "codemirror_mode": {
    "name": "ipython",
    "version": 3
   },
   "file_extension": ".py",
   "mimetype": "text/x-python",
   "name": "python",
   "nbconvert_exporter": "python",
   "pygments_lexer": "ipython3",
   "version": "3.6.13"
  },
  "orig_nbformat": 4,
  "vscode": {
   "interpreter": {
    "hash": "0747f93ff6db21b2db2bf35ad4858dd0825b9c21797c41b4cc32097944ab3f10"
   }
  }
 },
 "nbformat": 4,
 "nbformat_minor": 2
}
