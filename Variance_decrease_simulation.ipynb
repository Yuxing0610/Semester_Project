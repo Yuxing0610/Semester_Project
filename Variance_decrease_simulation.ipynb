{
 "cells": [
  {
   "cell_type": "code",
   "execution_count": 23,
   "metadata": {},
   "outputs": [],
   "source": [
    "import numpy as np\n",
    "import torch\n",
    "import torch.nn as nn\n",
    "import torch.nn.functional as F\n",
    "from torch.utils.data import TensorDataset, DataLoader\n",
    "from torchvision.datasets import FashionMNIST, MNIST, CIFAR10, SVHN\n",
    "import torchvision\n",
    "from torchvision import transforms\n",
    "import torchvision.utils as vision_utils\n",
    "import matplotlib.pyplot as plt\n",
    "import math\n",
    "import random\n",
    "import os\n",
    "import time\n",
    "\n",
    "DEVICE = torch.device('cpu')"
   ]
  },
  {
   "cell_type": "code",
   "execution_count": 24,
   "metadata": {},
   "outputs": [],
   "source": [
    "def switch_to_device(dataset,device=None):\n",
    "    final_X, final_Y = [], []\n",
    "    for x, y in dataset:\n",
    "        final_X.append(x)\n",
    "        final_Y.append(y)\n",
    "    X = torch.stack(final_X)\n",
    "    Y = torch.tensor(final_Y)\n",
    "    if device is not None:\n",
    "        X = X.to(device)\n",
    "        Y = Y.to(device)\n",
    "    return torch.utils.data.TensorDataset(X, Y)\n",
    "\n",
    "\n",
    "def get_mnist_dl(batch_size_train=256, batch_size_eval=1024, device=torch.device('cpu')):\n",
    "    transform = transforms.Compose([transforms.ToTensor()])\n",
    "    \n",
    "    data_train = MNIST('./datasets', train=True, download=True, transform=transform)\n",
    "    data_train = switch_to_device(data_train, device=device)\n",
    "    data_train, data_valid = torch.utils.data.random_split(data_train, [55000,5000])\n",
    "    \n",
    "    data_test = MNIST('./datasets', train=False, download=True, transform=transform)\n",
    "    data_test = switch_to_device(data_test, device=device)\n",
    "    \n",
    "    train_dl = DataLoader(data_train, batch_size=batch_size_train, shuffle=True)\n",
    "    valid_dl = DataLoader(data_valid, batch_size=batch_size_eval, shuffle=False)\n",
    "    test_dl = DataLoader(data_test, batch_size=batch_size_eval, shuffle=False)\n",
    "    \n",
    "    return train_dl, valid_dl, test_dl"
   ]
  },
  {
   "cell_type": "code",
   "execution_count": 25,
   "metadata": {},
   "outputs": [],
   "source": [
    "class LeNet(nn.Module):\n",
    "\n",
    "  def __init__(self, num_classes=10) -> None:\n",
    "    super().__init__()\n",
    "    self.flatten = nn.Flatten()\n",
    "    self.fc1 = nn.Linear(28*28, 1024)\n",
    "    self.Relu1 = nn.Sigmoid()\n",
    "    self.fc2 = nn.Linear(1024, 1024)\n",
    "    self.Relu2 = nn.Sigmoid()\n",
    "    self.fc3 = nn.Linear(1024, num_classes)\n",
    "    #self.softmax = nn.Softmax()\n",
    "\n",
    "\n",
    "  def forward(self, x: torch.Tensor) -> torch.Tensor:\n",
    "    x = self.flatten(x)\n",
    "    x = self.Relu1(self.fc1(x))\n",
    "    x = self.Relu2(self.fc2(x))\n",
    "    x = self.fc3(x)\n",
    "    \n",
    "    return x"
   ]
  },
  {
   "cell_type": "code",
   "execution_count": 26,
   "metadata": {},
   "outputs": [],
   "source": [
    "def clipping(x, max_norm):\n",
    "    max_norm = float(max_norm)\n",
    "    total_norm = torch.norm(x, p = 2)\n",
    "    clip_coef = max_norm/(total_norm+1e-6)\n",
    "    if clip_coef<1:\n",
    "        return x*clip_coef\n",
    "    return x"
   ]
  },
  {
   "cell_type": "code",
   "execution_count": 27,
   "metadata": {},
   "outputs": [],
   "source": [
    "def naive_project(grad):\n",
    "    noise = torch.randn_like(grad)\n",
    "    '''\n",
    "    mask = torch.zeros(noise.shape)\n",
    "    a = torch.full(noise.shape, 0.5)\n",
    "    b = torch.bernoulli(a)\n",
    "    new_noise = torch.where(b>0.5, noise, mask)\n",
    "    print((new_noise * torch.sum(new_noise * grad)).nonzero().shape)\n",
    "    '''\n",
    "    return noise * torch.sum(noise * grad)"
   ]
  },
  {
   "cell_type": "code",
   "execution_count": 28,
   "metadata": {},
   "outputs": [],
   "source": [
    "def using_multiple_naive(grad):\n",
    "    noise = torch.randn(10, grad.shape[0], grad.shape[1]) \n",
    "    return (noise * (torch.sum(noise * grad, dim=(1, 2)).unsqueeze(1).unsqueeze(2))).mean(dim = 0)"
   ]
  },
  {
   "cell_type": "code",
   "execution_count": 29,
   "metadata": {},
   "outputs": [],
   "source": [
    "def using_partition(grad):\n",
    "    num_forward_grad = 10\n",
    "    g = grad.view(-1)\n",
    "    noise = torch.randn(num_forward_grad, len(g))\n",
    "    source = torch.randn(len(g))\n",
    "    gap = math.floor(len(g)/num_forward_grad)\n",
    "    for i in range(num_forward_grad):\n",
    "        if i<num_forward_grad-1:\n",
    "            noise[i] = F.pad(source[i*gap:(i+1)*gap], pad = (i*gap, len(g)-(i+1)*gap))\n",
    "        else:\n",
    "            noise[i] = F.pad(source[i*gap:], pad = (i*gap, 0))\n",
    "    noise = noise.reshape(num_forward_grad, grad.shape[0], grad.shape[1])\n",
    "    return (noise * (torch.sum(noise * grad, dim=(1, 2)).unsqueeze(1).unsqueeze(2))).mean(dim = 0)\n",
    "\n",
    "\n",
    "    "
   ]
  },
  {
   "cell_type": "code",
   "execution_count": 30,
   "metadata": {},
   "outputs": [],
   "source": [
    "def using_inputs_project(grad, input):\n",
    "    noise = torch.randn(grad.shape[0])\n",
    "    \n",
    "    entry_from_batch = torch.randint(low=0, high=len(input), size=[])\n",
    "    inpt = input[entry_from_batch].view(-1)[None, :]\n",
    "    #inpt = torch.mean(input, dim = 0).view(-1)[None, :]\n",
    "    #q,r = torch.qr(input.T)\n",
    "    #inpt = torch.mean(q, dim = 1).view(-1)[None, :]\n",
    "    inpt /= inpt.norm()\n",
    "    '''\n",
    "    lim = torch.max(torch.abs(torch.tensor(inpt)))\n",
    "    plt.hist(inpt.detach().numpy(), label='inputs after devided by norm', bins=40)\n",
    "    plt.title('Inputs')\n",
    "    plt.xlim((-lim, lim))\n",
    "    plt.xticks(rotation = 30)\n",
    "    '''\n",
    "    expanded_noise = noise[:, None] * inpt\n",
    "    #print((expanded_noise * torch.sum(expanded_noise * grad)).nonzero().shape)\n",
    "    return expanded_noise * torch.sum(expanded_noise * grad), inpt"
   ]
  },
  {
   "cell_type": "code",
   "execution_count": 31,
   "metadata": {},
   "outputs": [],
   "source": [
    "def clip_naive_project(grad):\n",
    "    noise = torch.randn_like(grad)\n",
    "    return clipping(noise * torch.sum(noise * grad), 10)"
   ]
  },
  {
   "cell_type": "code",
   "execution_count": 32,
   "metadata": {},
   "outputs": [],
   "source": [
    "def run_experiment(model, opt, train_dl, epochs):\n",
    "    for i in range(epochs):\n",
    "\n",
    "        print(\"running the epoch\", i)\n",
    "        for x, y in train_dl:\n",
    "            opt.zero_grad()\n",
    "            loss = F.cross_entropy(model(x), y)\n",
    "            loss.backward()\n",
    "            opt.step()\n",
    "        print(\"epoch finish\", i)\n",
    "\n",
    "\n",
    "        \n",
    "        for x, y in train_dl:\n",
    "            print('current batch size is : ', len(y))\n",
    "\n",
    "            layer_inputs = {}\n",
    "            def hook(mod, input):\n",
    "                layer_inputs[mod] = input[0]\n",
    "            for module in model.modules():\n",
    "                module.register_forward_pre_hook(hook)\n",
    "            \n",
    "            loss = F.cross_entropy(model(x), y)\n",
    "            loss.backward()\n",
    "\n",
    "            for name, module in model.named_modules():\n",
    "                if isinstance(module, torch.nn.Linear):\n",
    "                    print(\"current layer is: \", name, \" with shape: \", module.weight.grad.shape)\n",
    "                    grad = module.weight.grad\n",
    "                    stats = {'naive':[], 'using_inputs':[], 'using_multiple_naive':[], 'using_partition':[]}\n",
    "                    approx1 = naive_project(grad)\n",
    "                    approx2, inpt = using_inputs_project(grad, layer_inputs[module])\n",
    "                    approx3 = using_multiple_naive(grad)\n",
    "                    approx4 = using_partition(grad)\n",
    "                    \n",
    "                    stats['naive'].extend((approx1 - grad).detach().numpy().reshape(-1).tolist())\n",
    "                    stats['using_inputs'].extend((approx2 - grad).detach().numpy().reshape(-1).tolist())\n",
    "                    stats['using_multiple_naive'].extend((approx3 - grad).detach().numpy().reshape(-1).tolist())\n",
    "                    stats['using_partition'].extend((approx4 - grad).detach().numpy().reshape(-1).tolist())\n",
    "\n",
    "                    var_1 = np.var((approx1 - grad).detach().numpy().reshape(-1).tolist())\n",
    "                    var_2 = np.var((approx3 - grad).detach().numpy().reshape(-1).tolist())\n",
    "                    var_3 = np.var((approx2 - grad).detach().numpy().reshape(-1).tolist())\n",
    "                    var_4 = np.var((approx4 - grad).detach().numpy().reshape(-1).tolist())\n",
    "                    print('variance are ', var_1, var_2, var_4, var_3)\n",
    "\n",
    "                    \n",
    "                    fig, axes = plt.subplots(figsize=(16, 6), ncols=4, sharey=True)\n",
    "\n",
    "                    x = stats[\"naive\"]\n",
    "                    lim = torch.max(torch.abs(torch.tensor(x)))\n",
    "                    axes[0].hist(x, label=\"naive\", bins=40)\n",
    "                    axes[0].set(title=\"Naive\", xlabel=\"Approximation err. (of a coordinate)\")\n",
    "                    axes[0].set(xlim=[-lim, lim])\n",
    "\n",
    "                    x = stats[\"using_multiple_naive\"]\n",
    "                    lim = torch.max(torch.abs(torch.tensor(x)))\n",
    "                    axes[1].hist(x, label=\"using_multiple_naive\", bins=40)\n",
    "                    axes[1].set(title=\"using_multiple_naive\", xlabel=\"Approximation err. (of a coordinate)\")\n",
    "                    axes[1].set(xlim=[-lim, lim])\n",
    "\n",
    "                    x = stats[\"using_partition\"]\n",
    "                    lim = torch.max(torch.abs(torch.tensor(x)))\n",
    "                    axes[2].hist(x, label=\"using partition\", bins=40)\n",
    "                    axes[2].set(title=\"Using partition\", xlabel=\"Approximation err. (of a coordinate)\")\n",
    "                    axes[2].set(xlim=[-lim, lim])\n",
    "\n",
    "                    x = stats[\"using_inputs\"]\n",
    "                    lim = torch.max(torch.abs(torch.tensor(x)))\n",
    "                    axes[3].hist(x, label=\"using inputs\", bins=40)\n",
    "                    axes[3].set(title=\"Using inputs\", xlabel=\"Approximation err. (of a coordinate)\")\n",
    "                    axes[3].set(xlim=[-lim, lim])\n",
    "\n",
    "                    '''\n",
    "                    x = inpt.detach().numpy().reshape(-1).tolist()\n",
    "                    lim = torch.max(torch.abs(torch.tensor(x)))\n",
    "                    plt.hist(x, label='Gradients', bins=40)\n",
    "                    plt.title('Gradients')\n",
    "                    plt.xlim((-lim, lim))\n",
    "                    plt.xticks(rotation = 30)\n",
    "                    '''\n",
    "                    \n",
    "                    \n",
    "\n",
    "            break\n"
   ]
  },
  {
   "cell_type": "code",
   "execution_count": 33,
   "metadata": {},
   "outputs": [
    {
     "name": "stdout",
     "output_type": "stream",
     "text": [
      "running the epoch 0\n",
      "epoch finish 0\n",
      "current batch size is :  256\n",
      "current layer is:  fc1  with shape:  torch.Size([1024, 784])\n",
      "variance are  0.004673380383366974 0.0002220675929387368 3.657019219228638e-06 1.479867766146541e-07\n",
      "current layer is:  fc2  with shape:  torch.Size([1024, 1024])\n",
      "variance are  0.005260928675653654 0.0029015276684205347 3.0089110334834862e-05 6.779526210291269e-06\n",
      "current layer is:  fc3  with shape:  torch.Size([10, 1024])\n",
      "variance are  0.009591799159694983 0.2175234102858142 0.003131270531705234 0.00026726686663353105\n"
     ]
    },
    {
     "data": {
      "image/png": "[encoded data removed]",
      "text/plain": [
       "<Figure size 1152x432 with 4 Axes>"
      ]
     },
     "metadata": {
      "needs_background": "light"
     },
     "output_type": "display_data"
    },
    {
     "data": {
      "image/png": "[encoded data removed]",
      "text/plain": [
       "<Figure size 1152x432 with 4 Axes>"
      ]
     },
     "metadata": {
      "needs_background": "light"
     },
     "output_type": "display_data"
    },
    {
     "data": {
      "image/png": "[encoded data removed]",
      "text/plain": [
       "<Figure size 1152x432 with 4 Axes>"
      ]
     },
     "metadata": {
      "needs_background": "light"
     },
     "output_type": "display_data"
    }
   ],
   "source": [
    "train_dl, valid_dl, test_dl = get_mnist_dl(device=DEVICE)\n",
    "\n",
    "model = LeNet().to(DEVICE)\n",
    "'''\n",
    "for p in model.parameters():\n",
    "    g = p.view(-1)\n",
    "    v = torch.normal(mean = torch.full((1, len(g)), 0.), std = torch.full((1, len(g)), 0.1)).to(DEVICE)\n",
    "    p.data = v.view(p.shape)\n",
    "'''\n",
    "    \n",
    "opt = torch.optim.SGD(model.parameters(), lr=1e-4)\n",
    "\n",
    "stats = run_experiment(model, opt, train_dl, epochs = 1)"
   ]
  }
 ],
 "metadata": {
  "interpreter": {
   "hash": "0747f93ff6db21b2db2bf35ad4858dd0825b9c21797c41b4cc32097944ab3f10"
  },
  "kernelspec": {
   "display_name": "Python 3.6.13 ('pytorch')",
   "language": "python",
   "name": "python3"
  },
  "language_info": {
   "codemirror_mode": {
    "name": "ipython",
    "version": 3
   },
   "file_extension": ".py",
   "mimetype": "text/x-python",
   "name": "python",
   "nbconvert_exporter": "python",
   "pygments_lexer": "ipython3",
   "version": "3.6.13"
  },
  "orig_nbformat": 4
 },
 "nbformat": 4,
 "nbformat_minor": 2
}
